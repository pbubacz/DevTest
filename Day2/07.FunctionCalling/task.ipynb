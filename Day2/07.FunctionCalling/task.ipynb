{
 "cells": [
  {
   "cell_type": "markdown",
   "metadata": {},
   "source": [
    "# Task\n",
    "Following functions are given. Implement function calling that will be able to call the functions based on user question."
   ]
  },
  {
   "cell_type": "code",
   "execution_count": null,
   "metadata": {},
   "outputs": [],
   "source": [
    "import pytz\n",
    "from datetime import datetime\n",
    "import pandas as pd\n",
    "import json\n",
    "import math\n",
    "\n",
    "def get_current_time(location):\n",
    "    try:\n",
    "        # Get the timezone for the city\n",
    "        timezone = pytz.timezone(location)\n",
    "\n",
    "        # Get the current time in the timezone\n",
    "        now = datetime.now(timezone)\n",
    "        current_time = now.strftime(\"%I:%M:%S %p\")\n",
    "\n",
    "        return current_time\n",
    "    except:\n",
    "        return \"Sorry, I couldn't find the timezone for that location.\"\n",
    "    \n",
    "\n",
    "def get_stock_market_data(index):\n",
    "    available_indices = [\n",
    "        \"S&P 500\",\n",
    "        \"NASDAQ Composite\",\n",
    "        \"Dow Jones Industrial Average\",\n",
    "        \"Financial Times Stock Exchange 100 Index\",\n",
    "    ]\n",
    "\n",
    "    if index not in available_indices:\n",
    "        return \"Invalid index. Please choose from 'S&P 500', 'NASDAQ Composite', 'Dow Jones Industrial Average', 'Financial Times Stock Exchange 100 Index'.\"\n",
    "\n",
    "    # Read the CSV file\n",
    "    data = pd.read_csv(\"stock_data.csv\")\n",
    "\n",
    "    # Filter data for the given index\n",
    "    data_filtered = data[data[\"Index\"] == index]\n",
    "\n",
    "    # Remove 'Index' column\n",
    "    data_filtered = data_filtered.drop(columns=[\"Index\"])\n",
    "\n",
    "    # Convert the DataFrame into a dictionary\n",
    "    hist_dict = data_filtered.to_dict()\n",
    "\n",
    "    for key, value_dict in hist_dict.items():\n",
    "        hist_dict[key] = {k: v for k, v in value_dict.items()}\n",
    "\n",
    "    return json.dumps(hist_dict)\n",
    "\n",
    "\n",
    "def calculator(num1, num2, operator):\n",
    "    if operator == \"+\":\n",
    "        return str(num1 + num2)\n",
    "    elif operator == \"-\":\n",
    "        return str(num1 - num2)\n",
    "    elif operator == \"*\":\n",
    "        return str(num1 * num2)\n",
    "    elif operator == \"/\":\n",
    "        return str(num1 / num2)\n",
    "    elif operator == \"**\":\n",
    "        return str(num1**num2)\n",
    "    elif operator == \"sqrt\":\n",
    "        return str(math.sqrt(num1))\n",
    "    else:\n",
    "        return \"Invalid operator\""
   ]
  },
  {
   "cell_type": "code",
   "execution_count": null,
   "metadata": {},
   "outputs": [],
   "source": [
    "print(get_current_time(\"America/New_York\"))\n",
    "print(get_stock_market_data(\"NASDAQ Composite\"))\n",
    "print(calculator(5, 5, \"+\"))"
   ]
  }
 ],
 "metadata": {
  "kernelspec": {
   "display_name": "Python 3",
   "language": "python",
   "name": "python3"
  },
  "language_info": {
   "codemirror_mode": {
    "name": "ipython",
    "version": 3
   },
   "file_extension": ".py",
   "mimetype": "text/x-python",
   "name": "python",
   "nbconvert_exporter": "python",
   "pygments_lexer": "ipython3",
   "version": "3.10.11"
  }
 },
 "nbformat": 4,
 "nbformat_minor": 2
}
